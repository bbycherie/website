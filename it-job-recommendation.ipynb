{
 "cells": [
  {
   "attachments": {},
   "cell_type": "markdown",
   "metadata": {},
   "source": [
    "# Job Recommendations \n",
    "\n",
    "This notebook creates a model, to recommend job positions given a position requirements description . This is done only for IT jobs. "
   ]
  },
  {
   "cell_type": "code",
   "execution_count": 21,
   "metadata": {
    "_cell_guid": "b1076dfc-b9ad-4769-8c92-a6c4dae69d19",
    "_uuid": "8f2839f25d086af736a60e9eeb907d3b93b6e0e5"
   },
   "outputs": [
    {
     "ename": "ModuleNotFoundError",
     "evalue": "No module named 'nltk'",
     "output_type": "error",
     "traceback": [
      "\u001b[1;31m---------------------------------------------------------------------------\u001b[0m",
      "\u001b[1;31mModuleNotFoundError\u001b[0m                       Traceback (most recent call last)",
      "Cell \u001b[1;32mIn[21], line 12\u001b[0m\n\u001b[0;32m      9\u001b[0m \u001b[39mfrom\u001b[39;00m \u001b[39msklearn\u001b[39;00m\u001b[39m.\u001b[39;00m\u001b[39mmodel_selection\u001b[39;00m \u001b[39mimport\u001b[39;00m train_test_split\n\u001b[0;32m     10\u001b[0m \u001b[39m# Input data files are available in the \"../input/\" directory.\u001b[39;00m\n\u001b[0;32m     11\u001b[0m \u001b[39m# For example, running this (by clicking run or pressing Shift+Enter) will list all files under the input directory\u001b[39;00m\n\u001b[1;32m---> 12\u001b[0m \u001b[39mimport\u001b[39;00m \u001b[39mnltk\u001b[39;00m\n\u001b[0;32m     13\u001b[0m \u001b[39mfrom\u001b[39;00m \u001b[39mnltk\u001b[39;00m\u001b[39m.\u001b[39;00m\u001b[39mcorpus\u001b[39;00m \u001b[39mimport\u001b[39;00m stopwords\n\u001b[0;32m     14\u001b[0m \u001b[39mfrom\u001b[39;00m \u001b[39msklearn\u001b[39;00m\u001b[39m.\u001b[39;00m\u001b[39mpreprocessing\u001b[39;00m \u001b[39mimport\u001b[39;00m LabelEncoder\n",
      "\u001b[1;31mModuleNotFoundError\u001b[0m: No module named 'nltk'"
     ]
    }
   ],
   "source": [
    "# This Python 3 environment comes with many helpful analytics libraries installed\n",
    "# It is defined by the kaggle/python docker image: https://github.com/kaggle/docker-python\n",
    "# For example, here's several helpful packages to load in \n",
    "\n",
    "import numpy as np # linear algebra\n",
    "import pandas as pd # data processing, CSV file I/O (e.g. pd.read_csv)\n",
    "from sklearn.feature_extraction import DictVectorizer\n",
    "from sklearn.feature_extraction.text import CountVectorizer\n",
    "from sklearn.model_selection import train_test_split\n",
    "# Input data files are available in the \"../input/\" directory.\n",
    "# For example, running this (by clicking run or pressing Shift+Enter) will list all files under the input directory\n",
    "import nltk\n",
    "from nltk.corpus import stopwords\n",
    "from sklearn.preprocessing import LabelEncoder\n",
    "from sklearn.mixture import GaussianMixture\n",
    "from sklearn.cluster import KMeans\n",
    "from sklearn.metrics import accuracy_score, auc, roc_curve, roc_auc_score\n",
    "\n",
    "    \n",
    "import os\n",
    "for dirname, _, filenames in os.walk('/kaggle/input'):\n",
    "    for filename in filenames:\n",
    "        print(os.path.join(dirname, filename))\n",
    "\n",
    "# Any results you write to the current directory are saved as output.\n",
    "\n"
   ]
  },
  {
   "cell_type": "code",
   "execution_count": 8,
   "metadata": {},
   "outputs": [
    {
     "name": "stdout",
     "output_type": "stream",
     "text": [
      "Index(['jobpost', 'date', 'Title', 'Company', 'AnnouncementCode', 'Term',\n",
      "       'Eligibility', 'Audience', 'StartDate', 'Duration', 'Location',\n",
      "       'JobDescription', 'JobRequirment', 'RequiredQual', 'Salary',\n",
      "       'ApplicationP', 'OpeningDate', 'Deadline', 'Notes', 'AboutC', 'Attach',\n",
      "       'Year', 'Month', 'IT'],\n",
      "      dtype='object')\n"
     ]
    },
    {
     "data": {
      "text/html": [
       "<div>\n",
       "<style scoped>\n",
       "    .dataframe tbody tr th:only-of-type {\n",
       "        vertical-align: middle;\n",
       "    }\n",
       "\n",
       "    .dataframe tbody tr th {\n",
       "        vertical-align: top;\n",
       "    }\n",
       "\n",
       "    .dataframe thead th {\n",
       "        text-align: right;\n",
       "    }\n",
       "</style>\n",
       "<table border=\"1\" class=\"dataframe\">\n",
       "  <thead>\n",
       "    <tr style=\"text-align: right;\">\n",
       "      <th></th>\n",
       "      <th>RequiredQual</th>\n",
       "      <th>Eligibility</th>\n",
       "      <th>Title</th>\n",
       "      <th>JobDescription</th>\n",
       "      <th>JobRequirment</th>\n",
       "    </tr>\n",
       "  </thead>\n",
       "  <tbody>\n",
       "    <tr>\n",
       "      <th>4</th>\n",
       "      <td>- University degree; economical background is ...</td>\n",
       "      <td>NaN</td>\n",
       "      <td>Software Developer</td>\n",
       "      <td>NaN</td>\n",
       "      <td>- Rendering technical assistance to Database M...</td>\n",
       "    </tr>\n",
       "    <tr>\n",
       "      <th>15</th>\n",
       "      <td>- Excellent knowledge of Windows 2000 Server, ...</td>\n",
       "      <td>NaN</td>\n",
       "      <td>Network Administrator</td>\n",
       "      <td>NaN</td>\n",
       "      <td>- Network monitoring and administration;\\r\\n- ...</td>\n",
       "    </tr>\n",
       "    <tr>\n",
       "      <th>19</th>\n",
       "      <td>As a GD you are creative, innovative and have\\...</td>\n",
       "      <td>NaN</td>\n",
       "      <td>Graphic Designer</td>\n",
       "      <td>The position of Graphic Designer (GD) demands ...</td>\n",
       "      <td>Graphic Designer will be responsible for every...</td>\n",
       "    </tr>\n",
       "    <tr>\n",
       "      <th>34</th>\n",
       "      <td>Participants should be mid-level professionals...</td>\n",
       "      <td>NaN</td>\n",
       "      <td>Demographic Analysis Workshop</td>\n",
       "      <td>NaN</td>\n",
       "      <td>NaN</td>\n",
       "    </tr>\n",
       "    <tr>\n",
       "      <th>35</th>\n",
       "      <td>- Work experience of at least two years; \\r\\n-...</td>\n",
       "      <td>NaN</td>\n",
       "      <td>Programmer</td>\n",
       "      <td>NaN</td>\n",
       "      <td>NaN</td>\n",
       "    </tr>\n",
       "  </tbody>\n",
       "</table>\n",
       "</div>"
      ],
      "text/plain": [
       "                                         RequiredQual Eligibility  \\\n",
       "4   - University degree; economical background is ...         NaN   \n",
       "15  - Excellent knowledge of Windows 2000 Server, ...         NaN   \n",
       "19  As a GD you are creative, innovative and have\\...         NaN   \n",
       "34  Participants should be mid-level professionals...         NaN   \n",
       "35  - Work experience of at least two years; \\r\\n-...         NaN   \n",
       "\n",
       "                            Title  \\\n",
       "4              Software Developer   \n",
       "15          Network Administrator   \n",
       "19               Graphic Designer   \n",
       "34  Demographic Analysis Workshop   \n",
       "35                     Programmer   \n",
       "\n",
       "                                       JobDescription  \\\n",
       "4                                                 NaN   \n",
       "15                                                NaN   \n",
       "19  The position of Graphic Designer (GD) demands ...   \n",
       "34                                                NaN   \n",
       "35                                                NaN   \n",
       "\n",
       "                                        JobRequirment  \n",
       "4   - Rendering technical assistance to Database M...  \n",
       "15  - Network monitoring and administration;\\r\\n- ...  \n",
       "19  Graphic Designer will be responsible for every...  \n",
       "34                                                NaN  \n",
       "35                                                NaN  "
      ]
     },
     "execution_count": 8,
     "metadata": {},
     "output_type": "execute_result"
    }
   ],
   "source": [
    "data = pd.read_csv('data job posts.csv')\n",
    "print(data.columns)\n",
    "# selecting only IT Jobs\n",
    "df = data[data['IT']]\n",
    "# selecting \n",
    "cols = ['RequiredQual', 'Eligibility', 'Title', 'JobDescription', 'JobRequirment']\n",
    "df=df[cols]\n",
    "df.head(5)"
   ]
  },
  {
   "attachments": {},
   "cell_type": "markdown",
   "metadata": {},
   "source": [
    "# Modifying Job Titles\n",
    "Selecting only top 21 job titles, to manage class imbalance"
   ]
  },
  {
   "cell_type": "code",
   "execution_count": 3,
   "metadata": {},
   "outputs": [
    {
     "data": {
      "text/plain": [
       "Software Developer           134\n",
       "Web Developer                101\n",
       "Java Developer                88\n",
       "Graphic Designer              75\n",
       "Senior Java Developer         69\n",
       "Software Engineer             69\n",
       "PHP Developer                 65\n",
       "Senior Software Engineer      63\n",
       "Programmer                    56\n",
       "IT Specialist                 55\n",
       "Senior QA Engineer            43\n",
       "Senior Software Developer     41\n",
       "Android Developer             37\n",
       ".NET Developer                36\n",
       "Senior PHP Developer          34\n",
       "Senior .NET Developer         34\n",
       "iOS Developer                 31\n",
       "Database Developer            29\n",
       "Senior Web Developer          29\n",
       "Software QA Engineer          29\n",
       "Database Administrator        28\n",
       "Name: Title, dtype: int64"
      ]
     },
     "execution_count": 3,
     "metadata": {},
     "output_type": "execute_result"
    }
   ],
   "source": [
    "classes = df['Title'].value_counts()[:21]\n",
    "keys = classes.keys().to_list()\n",
    "\n",
    "df = df[df['Title'].isin(keys)]\n",
    "df['Title'].value_counts()"
   ]
  },
  {
   "attachments": {},
   "cell_type": "markdown",
   "metadata": {},
   "source": [
    "Change job titles to base title. For exmaple, chaning Senior Java Developer to Java Developer.   "
   ]
  },
  {
   "cell_type": "code",
   "execution_count": 4,
   "metadata": {},
   "outputs": [
    {
     "data": {
      "text/plain": [
       "Java Developer          157\n",
       "Software Developer      134\n",
       "Software Engineer       132\n",
       "Web Developer           130\n",
       "PHP Developer            99\n",
       "Graphic Designer         75\n",
       "Software QA Engineer     72\n",
       ".NET Developer           70\n",
       "Database Admin/Dev       57\n",
       "Programmer               56\n",
       "IT Specialist            55\n",
       "Senior Web Developer     41\n",
       "Android Developer        37\n",
       "iOS Developer            31\n",
       "Name: Title, dtype: int64"
      ]
     },
     "execution_count": 4,
     "metadata": {},
     "output_type": "execute_result"
    }
   ],
   "source": [
    "def chane_titles(x):\n",
    "    x = x.strip()\n",
    "    if x == 'Senior Java Developer':\n",
    "        return 'Java Developer'\n",
    "    elif x == 'Senior Software Engineer':\n",
    "        return 'Software Engineer'\n",
    "    elif x == 'Senior QA Engineer':\n",
    "        return 'Software QA Engineer'\n",
    "    elif x == 'Senior Software Developer':\n",
    "        return 'Senior Web Developer'\n",
    "    elif x =='Senior PHP Developer':\n",
    "        return 'PHP Developer'\n",
    "    elif x == 'Senior .NET Developer':\n",
    "        return '.NET Developer'\n",
    "    elif x == 'Senior Web Developer':\n",
    "        return 'Web Developer'\n",
    "    elif x == 'Database Administrator':\n",
    "        return 'Database Admin/Dev'\n",
    "    elif x == 'Database Developer':\n",
    "        return 'Database Admin/Dev'\n",
    "\n",
    "    else:\n",
    "        return x\n",
    "        \n",
    "    \n",
    "df['Title'] = df['Title'].apply(chane_titles)\n",
    "df['Title'].value_counts()"
   ]
  },
  {
   "attachments": {},
   "cell_type": "markdown",
   "metadata": {},
   "source": [
    "# Building custom tokenizer to process text"
   ]
  },
  {
   "cell_type": "code",
   "execution_count": 5,
   "metadata": {},
   "outputs": [],
   "source": [
    "from nltk import word_tokenize          \n",
    "from nltk.stem import WordNetLemmatizer \n",
    "class LemmaTokenizer(object):\n",
    "    def __init__(self):\n",
    "        # lemmatize text - convert to base form \n",
    "        self.wnl = WordNetLemmatizer()\n",
    "        # creating stopwords list, to ignore lemmatizing stopwords \n",
    "        self.stopwords = stopwords.words('english')\n",
    "    def __call__(self, doc):\n",
    "        return [self.wnl.lemmatize(t) for t in word_tokenize(doc) if t not in self.stopwords]\n",
    "\n",
    "# removing new line characters, and certain hypen patterns                  \n",
    "df['RequiredQual']=df['RequiredQual'].apply(lambda x: x.replace('\\n', ' ').replace('\\r', '').replace('- ', ''). replace(' - ', ' to '))"
   ]
  },
  {
   "attachments": {},
   "cell_type": "markdown",
   "metadata": {},
   "source": [
    "# Featurizing Text"
   ]
  },
  {
   "cell_type": "code",
   "execution_count": 6,
   "metadata": {},
   "outputs": [
    {
     "name": "stderr",
     "output_type": "stream",
     "text": [
      "/opt/conda/lib/python3.6/site-packages/sklearn/feature_extraction/text.py:300: UserWarning: Your stop_words may be inconsistent with your preprocessing. Tokenizing the stop words generated tokens ['le', 'u'] not in stop_words.\n",
      "  'stop_words.' % sorted(inconsistent))\n"
     ]
    }
   ],
   "source": [
    "from sklearn.feature_extraction.text import TfidfVectorizer\n",
    "# train features and labels \n",
    "y = df['Title']\n",
    "X = df['RequiredQual']\n",
    "# tdif feature rep \n",
    "vectorizer = TfidfVectorizer(tokenizer=LemmaTokenizer(), stop_words='english')\n",
    "vectorizer.fit(X)\n",
    "# transoforming text to tdif features\n",
    "tfidf_matrix = vectorizer.transform(X)\n",
    "# sparse matrix to dense matrix for training\n",
    "X_tdif = tfidf_matrix.toarray()\n",
    "# encoding text labels in categories \n",
    "enc = LabelEncoder() \n",
    "enc.fit(y.values)\n",
    "y_enc=enc.transform(y.values)\n",
    "\n",
    "X_train_words, X_test_words, y_train, y_test = train_test_split(X, y_enc, test_size=0.15, random_state=10)\n",
    "\n",
    "X_train = vectorizer.transform(X_train_words)\n",
    "X_train = X_train.toarray()\n",
    "\n",
    "X_test = vectorizer.transform(X_test_words)\n",
    "X_test = X_test.toarray()\n"
   ]
  },
  {
   "attachments": {},
   "cell_type": "markdown",
   "metadata": {},
   "source": [
    "# Training Naive Bayes\n",
    "Looks pretty overfit"
   ]
  },
  {
   "cell_type": "code",
   "execution_count": 7,
   "metadata": {},
   "outputs": [
    {
     "name": "stdout",
     "output_type": "stream",
     "text": [
      "Train acc: 0.9455852156057495\n",
      "Test acc: 0.6918604651162791\n"
     ]
    }
   ],
   "source": [
    "from sklearn.naive_bayes import GaussianNB, MultinomialNB\n",
    "from sklearn.discriminant_analysis import LinearDiscriminantAnalysis\n",
    "gnb = GaussianNB()\n",
    "train_preds = gnb.fit(X_train, y_train).predict(X_train)\n",
    "test_preds = gnb.predict(X_test)\n",
    "\n",
    "print('Train acc: {0}'.format(accuracy_score(y_train, train_preds)))\n",
    "print('Test acc: {0}'.format(accuracy_score(y_test, test_preds)))\n"
   ]
  },
  {
   "attachments": {},
   "cell_type": "markdown",
   "metadata": {},
   "source": [
    "# Training Logistic Regression\n",
    "By modifiying the maximum number of iterations, and regularization, C, the above experienced overfitting was reduced significantly \n"
   ]
  },
  {
   "cell_type": "code",
   "execution_count": 8,
   "metadata": {},
   "outputs": [
    {
     "name": "stdout",
     "output_type": "stream",
     "text": [
      "[LibLinear]Train acc: 0.8757700205338809\n",
      "Test acc: 0.7383720930232558\n"
     ]
    },
    {
     "name": "stderr",
     "output_type": "stream",
     "text": [
      "/opt/conda/lib/python3.6/site-packages/sklearn/linear_model/logistic.py:432: FutureWarning: Default solver will be changed to 'lbfgs' in 0.22. Specify a solver to silence this warning.\n",
      "  FutureWarning)\n",
      "/opt/conda/lib/python3.6/site-packages/sklearn/linear_model/logistic.py:469: FutureWarning: Default multi_class will be changed to 'auto' in 0.22. Specify the multi_class option to silence this warning.\n",
      "  \"this warning.\", FutureWarning)\n"
     ]
    }
   ],
   "source": [
    "from sklearn.linear_model import LogisticRegression\n",
    "\n",
    "logistic = LogisticRegression(max_iter=15,verbose=1, C=0.75)\n",
    "\n",
    "train_preds = logistic.fit(X_train, y_train).predict(X_train)\n",
    "test_preds = logistic.predict(X_test)\n",
    "\n",
    "print('Train acc: {0}'.format(accuracy_score(y_train, train_preds)))\n",
    "print('Test acc: {0}'.format(accuracy_score(y_test, test_preds)))\n"
   ]
  },
  {
   "attachments": {},
   "cell_type": "markdown",
   "metadata": {},
   "source": [
    "# Creating Job Recommendations \n",
    "Recommends 2 job position alternatives given a job requirement. By obtaining probability of class predictions, and picking the top N predictions, other than true label, N closest recommendations can be got"
   ]
  },
  {
   "cell_type": "code",
   "execution_count": 9,
   "metadata": {},
   "outputs": [],
   "source": [
    "preds_data = {'Current Position Requirments': [], 'Current Position': [], 'Alternative 1': [], 'Alternative 2': []}\n",
    "y_preds_proba = logistic.predict_proba(X_test)\n",
    "\n",
    "counter = 0 \n",
    "for idx, (pred_row, true_job_position) in enumerate(zip(y_preds_proba, y_test)):\n",
    "    class_preds = np.argsort(pred_row)\n",
    "    # delete true class\n",
    "    for i in [-1, -2]:\n",
    "        if class_preds[i] == true_job_position:\n",
    "            class_preds=np.delete(class_preds,i)\n",
    "    # getting other 2 highest job predictions         \n",
    "    top_classes = class_preds[-2:]\n",
    "    # obtaining class name string from int label \n",
    "    class_names = enc.inverse_transform(top_classes)\n",
    "    true_job_position_name = enc.inverse_transform([true_job_position])\n",
    "    # saving to dict\n",
    "    preds_data['Current Position Requirments'].append(X_test_words.iloc[idx])\n",
    "    preds_data['Current Position'].append(true_job_position_name[0])\n",
    "    preds_data['Alternative 1'].append(class_names[1])\n",
    "    preds_data['Alternative 2'].append(class_names[0])\n",
    "\n",
    "    \n",
    "    counter +=1"
   ]
  },
  {
   "cell_type": "code",
   "execution_count": 10,
   "metadata": {},
   "outputs": [
    {
     "data": {
      "text/html": [
       "<div>\n",
       "<style scoped>\n",
       "    .dataframe tbody tr th:only-of-type {\n",
       "        vertical-align: middle;\n",
       "    }\n",
       "\n",
       "    .dataframe tbody tr th {\n",
       "        vertical-align: top;\n",
       "    }\n",
       "\n",
       "    .dataframe thead th {\n",
       "        text-align: right;\n",
       "    }\n",
       "</style>\n",
       "<table border=\"1\" class=\"dataframe\">\n",
       "  <thead>\n",
       "    <tr style=\"text-align: right;\">\n",
       "      <th></th>\n",
       "      <th>Current Position Requirments</th>\n",
       "      <th>Current Position</th>\n",
       "      <th>Alternative 1</th>\n",
       "      <th>Alternative 2</th>\n",
       "    </tr>\n",
       "  </thead>\n",
       "  <tbody>\n",
       "    <tr>\n",
       "      <td>0</td>\n",
       "      <td>From 1 to 5 years of experience in Android dev...</td>\n",
       "      <td>Android Developer</td>\n",
       "      <td>iOS Developer</td>\n",
       "      <td>Software Engineer</td>\n",
       "    </tr>\n",
       "    <tr>\n",
       "      <td>1</td>\n",
       "      <td>University degree in the appropriate field of ...</td>\n",
       "      <td>PHP Developer</td>\n",
       "      <td>Web Developer</td>\n",
       "      <td>Software Developer</td>\n",
       "    </tr>\n",
       "    <tr>\n",
       "      <td>2</td>\n",
       "      <td>At least 3 years of experience with PHP and Ja...</td>\n",
       "      <td>Web Developer</td>\n",
       "      <td>Software Engineer</td>\n",
       "      <td>PHP Developer</td>\n",
       "    </tr>\n",
       "    <tr>\n",
       "      <td>3</td>\n",
       "      <td>At least 3 years of work experience as a Java ...</td>\n",
       "      <td>Java Developer</td>\n",
       "      <td>Software Engineer</td>\n",
       "      <td>Software Developer</td>\n",
       "    </tr>\n",
       "    <tr>\n",
       "      <td>4</td>\n",
       "      <td>Bachelor??s degree in Engineering or Informati...</td>\n",
       "      <td>Software Engineer</td>\n",
       "      <td>Software Developer</td>\n",
       "      <td>Web Developer</td>\n",
       "    </tr>\n",
       "    <tr>\n",
       "      <td>...</td>\n",
       "      <td>...</td>\n",
       "      <td>...</td>\n",
       "      <td>...</td>\n",
       "      <td>...</td>\n",
       "    </tr>\n",
       "    <tr>\n",
       "      <td>167</td>\n",
       "      <td>Artistic ability to draw, sketch and design cr...</td>\n",
       "      <td>Graphic Designer</td>\n",
       "      <td>Web Developer</td>\n",
       "      <td>Software Developer</td>\n",
       "    </tr>\n",
       "    <tr>\n",
       "      <td>168</td>\n",
       "      <td>BS in Computer Science, Maths or a related dis...</td>\n",
       "      <td>Software Engineer</td>\n",
       "      <td>PHP Developer</td>\n",
       "      <td>Java Developer</td>\n",
       "    </tr>\n",
       "    <tr>\n",
       "      <td>169</td>\n",
       "      <td>University degree in Information Technology or...</td>\n",
       "      <td>IT Specialist</td>\n",
       "      <td>Software Developer</td>\n",
       "      <td>Database Admin/Dev</td>\n",
       "    </tr>\n",
       "    <tr>\n",
       "      <td>170</td>\n",
       "      <td>University degree in Computer Science, Informa...</td>\n",
       "      <td>Software Developer</td>\n",
       "      <td>Java Developer</td>\n",
       "      <td>Software Engineer</td>\n",
       "    </tr>\n",
       "    <tr>\n",
       "      <td>171</td>\n",
       "      <td>At least 5 years of experience in software dev...</td>\n",
       "      <td>Java Developer</td>\n",
       "      <td>Software Engineer</td>\n",
       "      <td>Software Developer</td>\n",
       "    </tr>\n",
       "  </tbody>\n",
       "</table>\n",
       "<p>172 rows × 4 columns</p>\n",
       "</div>"
      ],
      "text/plain": [
       "                          Current Position Requirments    Current Position  \\\n",
       "0    From 1 to 5 years of experience in Android dev...   Android Developer   \n",
       "1    University degree in the appropriate field of ...       PHP Developer   \n",
       "2    At least 3 years of experience with PHP and Ja...       Web Developer   \n",
       "3    At least 3 years of work experience as a Java ...      Java Developer   \n",
       "4    Bachelor??s degree in Engineering or Informati...   Software Engineer   \n",
       "..                                                 ...                 ...   \n",
       "167  Artistic ability to draw, sketch and design cr...    Graphic Designer   \n",
       "168  BS in Computer Science, Maths or a related dis...   Software Engineer   \n",
       "169  University degree in Information Technology or...       IT Specialist   \n",
       "170  University degree in Computer Science, Informa...  Software Developer   \n",
       "171  At least 5 years of experience in software dev...      Java Developer   \n",
       "\n",
       "          Alternative 1       Alternative 2  \n",
       "0         iOS Developer   Software Engineer  \n",
       "1         Web Developer  Software Developer  \n",
       "2     Software Engineer       PHP Developer  \n",
       "3     Software Engineer  Software Developer  \n",
       "4    Software Developer       Web Developer  \n",
       "..                  ...                 ...  \n",
       "167       Web Developer  Software Developer  \n",
       "168       PHP Developer      Java Developer  \n",
       "169  Software Developer  Database Admin/Dev  \n",
       "170      Java Developer   Software Engineer  \n",
       "171   Software Engineer  Software Developer  \n",
       "\n",
       "[172 rows x 4 columns]"
      ]
     },
     "execution_count": 10,
     "metadata": {},
     "output_type": "execute_result"
    }
   ],
   "source": [
    "preds_df = pd.DataFrame.from_dict(preds_data)\n",
    "preds_df.to_csv('Recommendations.csv', index=False)\n",
    "preds_df\n"
   ]
  }
 ],
 "metadata": {
  "kernelspec": {
   "display_name": "Python 3",
   "language": "python",
   "name": "python3"
  },
  "language_info": {
   "codemirror_mode": {
    "name": "ipython",
    "version": 3
   },
   "file_extension": ".py",
   "mimetype": "text/x-python",
   "name": "python",
   "nbconvert_exporter": "python",
   "pygments_lexer": "ipython3",
   "version": "3.11.0"
  }
 },
 "nbformat": 4,
 "nbformat_minor": 1
}
