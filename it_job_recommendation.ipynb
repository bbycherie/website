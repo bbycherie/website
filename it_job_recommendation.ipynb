{
  "cells": [
    {
      "cell_type": "markdown",
      "metadata": {
        "id": "nNEaSg3S-9m2"
      },
      "source": [
        "# Job Recommendations\n",
        "\n",
        "This notebook creates a model, to recommend job positions given a position requirements description . This is done only for IT jobs."
      ]
    },
    {
      "cell_type": "code",
      "execution_count": null,
      "metadata": {
        "_cell_guid": "b1076dfc-b9ad-4769-8c92-a6c4dae69d19",
        "_uuid": "8f2839f25d086af736a60e9eeb907d3b93b6e0e5",
        "colab": {
          "base_uri": "https://localhost:8080/"
        },
        "id": "7MHV81JB-9m6",
        "outputId": "10e3b12c-9983-4f49-adf9-5900fc0b0523"
      },
      "outputs": [
        {
          "output_type": "stream",
          "name": "stderr",
          "text": [
            "[nltk_data] Downloading package stopwords to /root/nltk_data...\n",
            "[nltk_data]   Package stopwords is already up-to-date!\n",
            "[nltk_data] Downloading package punkt to /root/nltk_data...\n",
            "[nltk_data]   Package punkt is already up-to-date!\n",
            "[nltk_data] Downloading package wordnet to /root/nltk_data...\n",
            "[nltk_data]   Package wordnet is already up-to-date!\n"
          ]
        }
      ],
      "source": [
        "# This Python 3 environment comes with many helpful analytics libraries installed\n",
        "# It is defined by the kaggle/python docker image: https://github.com/kaggle/docker-python\n",
        "# For example, here's several helpful packages to load in\n",
        "\n",
        "import numpy as np # linear algebra\n",
        "import pandas as pd # data processing, CSV file I/O (e.g. pd.read_csv)\n",
        "from sklearn.feature_extraction import DictVectorizer\n",
        "from sklearn.feature_extraction.text import CountVectorizer\n",
        "from sklearn.model_selection import train_test_split\n",
        "# Input data files are available in the \"../input/\" directory.\n",
        "# For example, running this (by clicking run or pressing Shift+Enter) will list all files under the input directory\n",
        "import nltk\n",
        "nltk.download(\"stopwords\")\n",
        "nltk.download('punkt')\n",
        "nltk.download('wordnet')\n",
        "from nltk.corpus import stopwords\n",
        "from sklearn.preprocessing import LabelEncoder\n",
        "from sklearn.mixture import GaussianMixture\n",
        "from sklearn.cluster import KMeans\n",
        "from sklearn.metrics import accuracy_score, auc, roc_curve, roc_auc_score\n",
        "\n",
        "\n",
        "import os\n",
        "\n",
        "# Any results you write to the current directory are saved as output.\n"
      ]
    },
    {
      "cell_type": "code",
      "source": [
        "from google.colab import drive\n",
        "\n",
        "drive.mount('/content/drive')"
      ],
      "metadata": {
        "colab": {
          "base_uri": "https://localhost:8080/"
        },
        "id": "U7TVs7aJ_TX8",
        "outputId": "e9c80ecb-dcaf-42b3-a106-971618c5a28d"
      },
      "execution_count": null,
      "outputs": [
        {
          "output_type": "stream",
          "name": "stdout",
          "text": [
            "Drive already mounted at /content/drive; to attempt to forcibly remount, call drive.mount(\"/content/drive\", force_remount=True).\n"
          ]
        }
      ]
    },
    {
      "cell_type": "code",
      "source": [
        "import pandas as pd\n",
        "\n",
        "# Specify the file path\n",
        "file_path = '/content/drive/MyDrive/Colab Notebooks/UAS PemWeb/data job posts.csv'\n",
        "\n",
        "# Read the CSV file into a DataFrame\n",
        "data = pd.read_csv(file_path)\n",
        "\n",
        "# Display the DataFrame\n",
        "print(data.columns)"
      ],
      "metadata": {
        "colab": {
          "base_uri": "https://localhost:8080/"
        },
        "id": "X30h81UX_W-E",
        "outputId": "2046b716-beae-46c7-c22b-7c9b8f011216"
      },
      "execution_count": null,
      "outputs": [
        {
          "output_type": "stream",
          "name": "stdout",
          "text": [
            "Index(['jobpost', 'date', 'Title', 'Company', 'AnnouncementCode', 'Term',\n",
            "       'Eligibility', 'Audience', 'StartDate', 'Duration', 'Location',\n",
            "       'JobDescription', 'JobRequirment', 'RequiredQual', 'Salary',\n",
            "       'ApplicationP', 'OpeningDate', 'Deadline', 'Notes', 'AboutC', 'Attach',\n",
            "       'Year', 'Month', 'IT'],\n",
            "      dtype='object')\n"
          ]
        }
      ]
    },
    {
      "cell_type": "code",
      "execution_count": null,
      "metadata": {
        "colab": {
          "base_uri": "https://localhost:8080/",
          "height": 250
        },
        "id": "uobFmRy8-9m8",
        "outputId": "5ace244e-df1b-451b-d52f-c45b8ec64147"
      },
      "outputs": [
        {
          "output_type": "execute_result",
          "data": {
            "text/plain": [
              "                                         RequiredQual Eligibility  \\\n",
              "4   - University degree; economical background is ...         NaN   \n",
              "15  - Excellent knowledge of Windows 2000 Server, ...         NaN   \n",
              "19  As a GD you are creative, innovative and have\\...         NaN   \n",
              "34  Participants should be mid-level professionals...         NaN   \n",
              "35  - Work experience of at least two years; \\r\\n-...         NaN   \n",
              "\n",
              "                            Title  \\\n",
              "4              Software Developer   \n",
              "15          Network Administrator   \n",
              "19               Graphic Designer   \n",
              "34  Demographic Analysis Workshop   \n",
              "35                     Programmer   \n",
              "\n",
              "                                       JobDescription  \\\n",
              "4                                                 NaN   \n",
              "15                                                NaN   \n",
              "19  The position of Graphic Designer (GD) demands ...   \n",
              "34                                                NaN   \n",
              "35                                                NaN   \n",
              "\n",
              "                                        JobRequirment  \n",
              "4   - Rendering technical assistance to Database M...  \n",
              "15  - Network monitoring and administration;\\r\\n- ...  \n",
              "19  Graphic Designer will be responsible for every...  \n",
              "34                                                NaN  \n",
              "35                                                NaN  "
            ],
            "text/html": [
              "\n",
              "  <div id=\"df-32872b00-e3e7-4065-b14c-f703f69a8cc0\">\n",
              "    <div class=\"colab-df-container\">\n",
              "      <div>\n",
              "<style scoped>\n",
              "    .dataframe tbody tr th:only-of-type {\n",
              "        vertical-align: middle;\n",
              "    }\n",
              "\n",
              "    .dataframe tbody tr th {\n",
              "        vertical-align: top;\n",
              "    }\n",
              "\n",
              "    .dataframe thead th {\n",
              "        text-align: right;\n",
              "    }\n",
              "</style>\n",
              "<table border=\"1\" class=\"dataframe\">\n",
              "  <thead>\n",
              "    <tr style=\"text-align: right;\">\n",
              "      <th></th>\n",
              "      <th>RequiredQual</th>\n",
              "      <th>Eligibility</th>\n",
              "      <th>Title</th>\n",
              "      <th>JobDescription</th>\n",
              "      <th>JobRequirment</th>\n",
              "    </tr>\n",
              "  </thead>\n",
              "  <tbody>\n",
              "    <tr>\n",
              "      <th>4</th>\n",
              "      <td>- University degree; economical background is ...</td>\n",
              "      <td>NaN</td>\n",
              "      <td>Software Developer</td>\n",
              "      <td>NaN</td>\n",
              "      <td>- Rendering technical assistance to Database M...</td>\n",
              "    </tr>\n",
              "    <tr>\n",
              "      <th>15</th>\n",
              "      <td>- Excellent knowledge of Windows 2000 Server, ...</td>\n",
              "      <td>NaN</td>\n",
              "      <td>Network Administrator</td>\n",
              "      <td>NaN</td>\n",
              "      <td>- Network monitoring and administration;\\r\\n- ...</td>\n",
              "    </tr>\n",
              "    <tr>\n",
              "      <th>19</th>\n",
              "      <td>As a GD you are creative, innovative and have\\...</td>\n",
              "      <td>NaN</td>\n",
              "      <td>Graphic Designer</td>\n",
              "      <td>The position of Graphic Designer (GD) demands ...</td>\n",
              "      <td>Graphic Designer will be responsible for every...</td>\n",
              "    </tr>\n",
              "    <tr>\n",
              "      <th>34</th>\n",
              "      <td>Participants should be mid-level professionals...</td>\n",
              "      <td>NaN</td>\n",
              "      <td>Demographic Analysis Workshop</td>\n",
              "      <td>NaN</td>\n",
              "      <td>NaN</td>\n",
              "    </tr>\n",
              "    <tr>\n",
              "      <th>35</th>\n",
              "      <td>- Work experience of at least two years; \\r\\n-...</td>\n",
              "      <td>NaN</td>\n",
              "      <td>Programmer</td>\n",
              "      <td>NaN</td>\n",
              "      <td>NaN</td>\n",
              "    </tr>\n",
              "  </tbody>\n",
              "</table>\n",
              "</div>\n",
              "      <button class=\"colab-df-convert\" onclick=\"convertToInteractive('df-32872b00-e3e7-4065-b14c-f703f69a8cc0')\"\n",
              "              title=\"Convert this dataframe to an interactive table.\"\n",
              "              style=\"display:none;\">\n",
              "        \n",
              "  <svg xmlns=\"http://www.w3.org/2000/svg\" height=\"24px\"viewBox=\"0 0 24 24\"\n",
              "       width=\"24px\">\n",
              "    <path d=\"M0 0h24v24H0V0z\" fill=\"none\"/>\n",
              "    <path d=\"M18.56 5.44l.94 2.06.94-2.06 2.06-.94-2.06-.94-.94-2.06-.94 2.06-2.06.94zm-11 1L8.5 8.5l.94-2.06 2.06-.94-2.06-.94L8.5 2.5l-.94 2.06-2.06.94zm10 10l.94 2.06.94-2.06 2.06-.94-2.06-.94-.94-2.06-.94 2.06-2.06.94z\"/><path d=\"M17.41 7.96l-1.37-1.37c-.4-.4-.92-.59-1.43-.59-.52 0-1.04.2-1.43.59L10.3 9.45l-7.72 7.72c-.78.78-.78 2.05 0 2.83L4 21.41c.39.39.9.59 1.41.59.51 0 1.02-.2 1.41-.59l7.78-7.78 2.81-2.81c.8-.78.8-2.07 0-2.86zM5.41 20L4 18.59l7.72-7.72 1.47 1.35L5.41 20z\"/>\n",
              "  </svg>\n",
              "      </button>\n",
              "      \n",
              "  <style>\n",
              "    .colab-df-container {\n",
              "      display:flex;\n",
              "      flex-wrap:wrap;\n",
              "      gap: 12px;\n",
              "    }\n",
              "\n",
              "    .colab-df-convert {\n",
              "      background-color: #E8F0FE;\n",
              "      border: none;\n",
              "      border-radius: 50%;\n",
              "      cursor: pointer;\n",
              "      display: none;\n",
              "      fill: #1967D2;\n",
              "      height: 32px;\n",
              "      padding: 0 0 0 0;\n",
              "      width: 32px;\n",
              "    }\n",
              "\n",
              "    .colab-df-convert:hover {\n",
              "      background-color: #E2EBFA;\n",
              "      box-shadow: 0px 1px 2px rgba(60, 64, 67, 0.3), 0px 1px 3px 1px rgba(60, 64, 67, 0.15);\n",
              "      fill: #174EA6;\n",
              "    }\n",
              "\n",
              "    [theme=dark] .colab-df-convert {\n",
              "      background-color: #3B4455;\n",
              "      fill: #D2E3FC;\n",
              "    }\n",
              "\n",
              "    [theme=dark] .colab-df-convert:hover {\n",
              "      background-color: #434B5C;\n",
              "      box-shadow: 0px 1px 3px 1px rgba(0, 0, 0, 0.15);\n",
              "      filter: drop-shadow(0px 1px 2px rgba(0, 0, 0, 0.3));\n",
              "      fill: #FFFFFF;\n",
              "    }\n",
              "  </style>\n",
              "\n",
              "      <script>\n",
              "        const buttonEl =\n",
              "          document.querySelector('#df-32872b00-e3e7-4065-b14c-f703f69a8cc0 button.colab-df-convert');\n",
              "        buttonEl.style.display =\n",
              "          google.colab.kernel.accessAllowed ? 'block' : 'none';\n",
              "\n",
              "        async function convertToInteractive(key) {\n",
              "          const element = document.querySelector('#df-32872b00-e3e7-4065-b14c-f703f69a8cc0');\n",
              "          const dataTable =\n",
              "            await google.colab.kernel.invokeFunction('convertToInteractive',\n",
              "                                                     [key], {});\n",
              "          if (!dataTable) return;\n",
              "\n",
              "          const docLinkHtml = 'Like what you see? Visit the ' +\n",
              "            '<a target=\"_blank\" href=https://colab.research.google.com/notebooks/data_table.ipynb>data table notebook</a>'\n",
              "            + ' to learn more about interactive tables.';\n",
              "          element.innerHTML = '';\n",
              "          dataTable['output_type'] = 'display_data';\n",
              "          await google.colab.output.renderOutput(dataTable, element);\n",
              "          const docLink = document.createElement('div');\n",
              "          docLink.innerHTML = docLinkHtml;\n",
              "          element.appendChild(docLink);\n",
              "        }\n",
              "      </script>\n",
              "    </div>\n",
              "  </div>\n",
              "  "
            ]
          },
          "metadata": {},
          "execution_count": 84
        }
      ],
      "source": [
        "# selecting only IT Jobs\n",
        "df = data[data['IT']]\n",
        "# selecting\n",
        "cols = ['RequiredQual', 'Eligibility', 'Title', 'JobDescription', 'JobRequirment']\n",
        "df=df[cols]\n",
        "df.head(5)"
      ]
    },
    {
      "cell_type": "markdown",
      "metadata": {
        "id": "pfPg6qnn-9m8"
      },
      "source": [
        "# Modifying Job Titles\n",
        "Selecting only top 21 job titles, to manage class imbalance"
      ]
    },
    {
      "cell_type": "code",
      "execution_count": null,
      "metadata": {
        "colab": {
          "base_uri": "https://localhost:8080/"
        },
        "id": "QqC6Q177-9m9",
        "outputId": "19721c99-f8b1-48df-d15a-29e0aba66c8a"
      },
      "outputs": [
        {
          "output_type": "execute_result",
          "data": {
            "text/plain": [
              "Software Developer           134\n",
              "Web Developer                101\n",
              "Java Developer                88\n",
              "Graphic Designer              75\n",
              "Software Engineer             69\n",
              "Senior Java Developer         69\n",
              "PHP Developer                 65\n",
              "Senior Software Engineer      63\n",
              "Programmer                    56\n",
              "IT Specialist                 55\n",
              "Senior QA Engineer            43\n",
              "Senior Software Developer     41\n",
              "Android Developer             37\n",
              ".NET Developer                36\n",
              "Senior .NET Developer         34\n",
              "Senior PHP Developer          34\n",
              "iOS Developer                 31\n",
              "Software QA Engineer          29\n",
              "Senior Web Developer          29\n",
              "Database Developer            29\n",
              "Database Administrator        28\n",
              "Name: Title, dtype: int64"
            ]
          },
          "metadata": {},
          "execution_count": 85
        }
      ],
      "source": [
        "classes = df['Title'].value_counts()[:21]\n",
        "keys = classes.keys().to_list()\n",
        "\n",
        "df = df[df['Title'].isin(keys)]\n",
        "df['Title'].value_counts()"
      ]
    },
    {
      "cell_type": "markdown",
      "metadata": {
        "id": "zmV2Wh-i-9m9"
      },
      "source": [
        "Change job titles to base title. For exmaple, chaning Senior Java Developer to Java Developer.   "
      ]
    },
    {
      "cell_type": "code",
      "execution_count": null,
      "metadata": {
        "colab": {
          "base_uri": "https://localhost:8080/"
        },
        "id": "rguacCZY-9m9",
        "outputId": "a8781271-87e6-48c2-c8df-bf0817b99b50"
      },
      "outputs": [
        {
          "output_type": "execute_result",
          "data": {
            "text/plain": [
              "Java Developer          157\n",
              "Software Developer      134\n",
              "Software Engineer       132\n",
              "Web Developer           130\n",
              "PHP Developer            99\n",
              "Graphic Designer         75\n",
              "Software QA Engineer     72\n",
              ".NET Developer           70\n",
              "Database Admin/Dev       57\n",
              "Programmer               56\n",
              "IT Specialist            55\n",
              "Senior Web Developer     41\n",
              "Android Developer        37\n",
              "iOS Developer            31\n",
              "Name: Title, dtype: int64"
            ]
          },
          "metadata": {},
          "execution_count": 86
        }
      ],
      "source": [
        "def chane_titles(x):\n",
        "    x = x.strip()\n",
        "    if x == 'Senior Java Developer':\n",
        "        return 'Java Developer'\n",
        "    elif x == 'Senior Software Engineer':\n",
        "        return 'Software Engineer'\n",
        "    elif x == 'Senior QA Engineer':\n",
        "        return 'Software QA Engineer'\n",
        "    elif x == 'Senior Software Developer':\n",
        "        return 'Senior Web Developer'\n",
        "    elif x =='Senior PHP Developer':\n",
        "        return 'PHP Developer'\n",
        "    elif x == 'Senior .NET Developer':\n",
        "        return '.NET Developer'\n",
        "    elif x == 'Senior Web Developer':\n",
        "        return 'Web Developer'\n",
        "    elif x == 'Database Administrator':\n",
        "        return 'Database Admin/Dev'\n",
        "    elif x == 'Database Developer':\n",
        "        return 'Database Admin/Dev'\n",
        "\n",
        "    else:\n",
        "        return x\n",
        "\n",
        "\n",
        "df['Title'] = df['Title'].apply(chane_titles)\n",
        "df['Title'].value_counts()"
      ]
    },
    {
      "cell_type": "markdown",
      "metadata": {
        "id": "m5xOrsal-9m-"
      },
      "source": [
        "# Building custom tokenizer to process text"
      ]
    },
    {
      "cell_type": "code",
      "execution_count": null,
      "metadata": {
        "id": "aT39Jx6c-9m-"
      },
      "outputs": [],
      "source": [
        "from nltk import word_tokenize\n",
        "from nltk.stem import WordNetLemmatizer\n",
        "class LemmaTokenizer(object):\n",
        "    def __init__(self):\n",
        "        # lemmatize text - convert to base form\n",
        "        self.wnl = WordNetLemmatizer()\n",
        "        # creating stopwords list, to ignore lemmatizing stopwords\n",
        "        self.stopwords = stopwords.words('english')\n",
        "    def __call__(self, doc):\n",
        "        return [self.wnl.lemmatize(t) for t in word_tokenize(doc) if t not in self.stopwords]\n",
        "\n",
        "# removing new line characters, and certain hypen patterns\n",
        "df['RequiredQual']=df['RequiredQual'].apply(lambda x: x.replace('\\n', ' ').replace('\\r', '').replace('- ', ''). replace(' - ', ' to '))"
      ]
    },
    {
      "cell_type": "markdown",
      "metadata": {
        "id": "8KPqmuPa-9m_"
      },
      "source": [
        "# Featurizing Text"
      ]
    },
    {
      "cell_type": "code",
      "execution_count": null,
      "metadata": {
        "colab": {
          "base_uri": "https://localhost:8080/"
        },
        "id": "qQwdbiaV-9m_",
        "outputId": "ff4a461e-0e8a-4752-d721-6f7474a5b2fe"
      },
      "outputs": [
        {
          "output_type": "stream",
          "name": "stderr",
          "text": [
            "/usr/local/lib/python3.10/dist-packages/sklearn/feature_extraction/text.py:528: UserWarning: The parameter 'token_pattern' will not be used since 'tokenizer' is not None'\n",
            "  warnings.warn(\n",
            "/usr/local/lib/python3.10/dist-packages/sklearn/feature_extraction/text.py:409: UserWarning: Your stop_words may be inconsistent with your preprocessing. Tokenizing the stop words generated tokens ['le', 'u'] not in stop_words.\n",
            "  warnings.warn(\n"
          ]
        }
      ],
      "source": [
        "from sklearn.feature_extraction.text import TfidfVectorizer\n",
        "# train features and labels\n",
        "y = df['Title']\n",
        "X = df['RequiredQual']\n",
        "# tdif feature rep\n",
        "vectorizer = TfidfVectorizer(tokenizer=LemmaTokenizer(), stop_words='english')\n",
        "vectorizer.fit(X)\n",
        "# transoforming text to tdif features\n",
        "tfidf_matrix = vectorizer.transform(X)\n",
        "# sparse matrix to dense matrix for training\n",
        "X_tdif = tfidf_matrix.toarray()\n",
        "# encoding text labels in categories\n",
        "enc = LabelEncoder()\n",
        "enc.fit(y.values)\n",
        "y_enc=enc.transform(y.values)\n",
        "\n",
        "X_train_words, X_test_words, y_train, y_test = train_test_split(X, y_enc, test_size=0.15, random_state=10)\n",
        "\n",
        "X_train = vectorizer.transform(X_train_words)\n",
        "X_train = X_train.toarray()\n",
        "\n",
        "X_test = vectorizer.transform(X_test_words)\n",
        "X_test = X_test.toarray()\n"
      ]
    },
    {
      "cell_type": "markdown",
      "metadata": {
        "id": "QbE67p-X-9m_"
      },
      "source": [
        "# Training Naive Bayes\n",
        "Looks pretty overfit"
      ]
    },
    {
      "cell_type": "code",
      "execution_count": null,
      "metadata": {
        "colab": {
          "base_uri": "https://localhost:8080/"
        },
        "id": "yvKEGk5x-9nA",
        "outputId": "0d185ca5-07eb-470b-ff59-d90df401dcca"
      },
      "outputs": [
        {
          "output_type": "stream",
          "name": "stdout",
          "text": [
            "Train acc: 0.9455852156057495\n",
            "Test acc: 0.6918604651162791\n"
          ]
        }
      ],
      "source": [
        "from sklearn.naive_bayes import GaussianNB, MultinomialNB\n",
        "from sklearn.discriminant_analysis import LinearDiscriminantAnalysis\n",
        "gnb = GaussianNB()\n",
        "train_preds = gnb.fit(X_train, y_train).predict(X_train)\n",
        "test_preds = gnb.predict(X_test)\n",
        "\n",
        "print('Train acc: {0}'.format(accuracy_score(y_train, train_preds)))\n",
        "print('Test acc: {0}'.format(accuracy_score(y_test, test_preds)))\n"
      ]
    },
    {
      "cell_type": "markdown",
      "metadata": {
        "id": "iqALnvYC-9nA"
      },
      "source": [
        "# Training Logistic Regression\n",
        "By modifiying the maximum number of iterations, and regularization, C, the above experienced overfitting was reduced significantly\n"
      ]
    },
    {
      "cell_type": "code",
      "execution_count": null,
      "metadata": {
        "colab": {
          "base_uri": "https://localhost:8080/"
        },
        "id": "D36coEzs-9nA",
        "outputId": "f5f048a8-e75b-499a-bfe6-cfa1402d284c"
      },
      "outputs": [
        {
          "output_type": "stream",
          "name": "stderr",
          "text": [
            "[Parallel(n_jobs=1)]: Using backend SequentialBackend with 1 concurrent workers.\n"
          ]
        },
        {
          "output_type": "stream",
          "name": "stdout",
          "text": [
            "Train acc: 0.8819301848049281\n",
            "Test acc: 0.7383720930232558\n"
          ]
        },
        {
          "output_type": "stream",
          "name": "stderr",
          "text": [
            "/usr/local/lib/python3.10/dist-packages/sklearn/linear_model/_logistic.py:458: ConvergenceWarning: lbfgs failed to converge (status=1):\n",
            "STOP: TOTAL NO. of ITERATIONS REACHED LIMIT.\n",
            "\n",
            "Increase the number of iterations (max_iter) or scale the data as shown in:\n",
            "    https://scikit-learn.org/stable/modules/preprocessing.html\n",
            "Please also refer to the documentation for alternative solver options:\n",
            "    https://scikit-learn.org/stable/modules/linear_model.html#logistic-regression\n",
            "  n_iter_i = _check_optimize_result(\n",
            "[Parallel(n_jobs=1)]: Done   1 out of   1 | elapsed:    0.9s finished\n"
          ]
        }
      ],
      "source": [
        "from sklearn.linear_model import LogisticRegression\n",
        "\n",
        "logistic = LogisticRegression(max_iter=15,verbose=1, C=0.75)\n",
        "\n",
        "train_preds = logistic.fit(X_train, y_train).predict(X_train)\n",
        "test_preds = logistic.predict(X_test)\n",
        "\n",
        "print('Train acc: {0}'.format(accuracy_score(y_train, train_preds)))\n",
        "print('Test acc: {0}'.format(accuracy_score(y_test, test_preds)))\n"
      ]
    },
    {
      "cell_type": "markdown",
      "metadata": {
        "id": "oyjJ-6j5-9nB"
      },
      "source": [
        "# Creating Job Recommendations\n",
        "Recommends 2 job position alternatives given a job requirement. By obtaining probability of class predictions, and picking the top N predictions, other than true label, N closest recommendations can be got"
      ]
    },
    {
      "cell_type": "code",
      "execution_count": null,
      "metadata": {
        "id": "6jWW7VQo-9nB"
      },
      "outputs": [],
      "source": [
        "preds_data = {'Current Position Requirments': [], 'Alternative 1': [], 'Alternative 2': []}\n",
        "y_preds_proba = logistic.predict_proba(X_test)\n",
        "\n",
        "counter = 0\n",
        "for idx, (pred_row, true_job_position) in enumerate(zip(y_preds_proba, y_test)):\n",
        "    class_preds = np.argsort(pred_row)\n",
        "    # delete true class\n",
        "    for i in [-1, -2]:\n",
        "        if class_preds[i] == true_job_position:\n",
        "            class_preds=np.delete(class_preds,i)\n",
        "    # getting other 2 highest job predictions\n",
        "    top_classes = class_preds[-2:]\n",
        "    # obtaining class name string from int label\n",
        "    class_names = enc.inverse_transform(top_classes)\n",
        "    true_job_position_name = enc.inverse_transform([true_job_position])\n",
        "    # saving to dict\n",
        "    preds_data['Current Position Requirments'].append(X_test_words.iloc[idx])\n",
        "    preds_data['Alternative 1'].append(class_names[1])\n",
        "    preds_data['Alternative 2'].append(class_names[0])\n",
        "\n",
        "\n",
        "    counter +=1"
      ]
    },
    {
      "cell_type": "code",
      "source": [
        "text_c = \"At least 3 years of work experience; Experience in team work; Good knowledge of OOP principles; Good knowledge of MVC pattern; Ability to work on multiple tasks and to prioritize personal workload; Ability to handle the whole project and lead a small team; Very good knowledge of JSP/ Servlet, J2EE, JSF, Hibernate and Spring; Good knowledge of JavaScript, HTML and CSS; Knowledge of Struts and HTML5 is a plus; Database proficiency in SQLServer and Oracle is a plus.,Java Developer,Web Developer,PHP Developer\"\n",
        "predictions = get_predictions(text_c)\n",
        "print(predictions)"
      ],
      "metadata": {
        "colab": {
          "base_uri": "https://localhost:8080/"
        },
        "id": "gWI8iRZhIhit",
        "outputId": "46cd9775-433b-4ae4-cb0f-e0adf60aa09e"
      },
      "execution_count": null,
      "outputs": [
        {
          "output_type": "stream",
          "name": "stdout",
          "text": [
            "{'Current Position Requirments': ['At least 3 years of work experience; Experience in team work; Good knowledge of OOP principles; Good knowledge of MVC pattern; Ability to work on multiple tasks and to prioritize personal workload; Ability to handle the whole project and lead a small team; Very good knowledge of JSP/ Servlet, J2EE, JSF, Hibernate and Spring; Good knowledge of JavaScript, HTML and CSS; Knowledge of Struts and HTML5 is a plus; Database proficiency in SQLServer and Oracle is a plus.,Java Developer,Web Developer,PHP Developer'], 'Alternative 1': ['Java Developer'], 'Alternative 2': ['PHP Developer']}\n"
          ]
        }
      ]
    },
    {
      "cell_type": "code",
      "source": [
        "def get_predictions(X_test_words):\n",
        "    X_test = vectorizer.transform([X_test_words])\n",
        "    X_test = X_test.toarray()\n",
        "    preds_data = {'Current Position Requirments': [], 'Alternative 1': [], 'Alternative 2': []}\n",
        "    y_preds_proba = logistic.predict_proba(X_test)\n",
        "\n",
        "    for idx, pred_row in enumerate(y_preds_proba):\n",
        "        class_preds = np.argsort(pred_row)\n",
        "        # delete true class\n",
        "        for i in [-1, -2]:\n",
        "            if class_preds[i] == y_test[idx]:\n",
        "                class_preds = np.delete(class_preds,i)\n",
        "        # getting other 2 highest job predictions\n",
        "        top_classes = class_preds[-2:]\n",
        "        # obtaining class name string from int label\n",
        "        class_names = enc.inverse_transform(top_classes)\n",
        "        true_job_position_name = enc.inverse_transform([y_test[idx]])\n",
        "        # saving to dict\n",
        "        preds_data['Current Position Requirments'].append(X_test_words)\n",
        "        preds_data['Alternative 1'].append(class_names[1])\n",
        "        preds_data['Alternative 2'].append(class_names[0])\n",
        "\n",
        "    return preds_data"
      ],
      "metadata": {
        "id": "qMJdUYy2Cwiu"
      },
      "execution_count": null,
      "outputs": []
    },
    {
      "cell_type": "code",
      "execution_count": null,
      "metadata": {
        "id": "u13xs0Dn-9nB"
      },
      "outputs": [],
      "source": [
        "preds_df = pd.DataFrame.from_dict(preds_data)\n",
        "preds_df.to_csv('Recommendations.csv', index=False)\n",
        "preds_df\n"
      ]
    },
    {
      "cell_type": "code",
      "source": [
        "preds_df = pd.DataFrame.from_dict(preds_data)\n",
        "preds_df.to_csv('Recommendations.csv', index=False)\n",
        "preds_df"
      ],
      "metadata": {
        "id": "rrsZyuIYBINv"
      },
      "execution_count": null,
      "outputs": []
    }
  ],
  "metadata": {
    "kernelspec": {
      "display_name": "Python 3",
      "language": "python",
      "name": "python3"
    },
    "language_info": {
      "codemirror_mode": {
        "name": "ipython",
        "version": 3
      },
      "file_extension": ".py",
      "mimetype": "text/x-python",
      "name": "python",
      "nbconvert_exporter": "python",
      "pygments_lexer": "ipython3",
      "version": "3.11.0"
    },
    "colab": {
      "provenance": []
    }
  },
  "nbformat": 4,
  "nbformat_minor": 0
}